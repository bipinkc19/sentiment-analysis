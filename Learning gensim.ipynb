{
 "cells": [
  {
   "cell_type": "code",
   "execution_count": 33,
   "metadata": {},
   "outputs": [],
   "source": [
    "import gensim, logging\n",
    "from nltk.corpus import stopwords"
   ]
  },
  {
   "cell_type": "code",
   "execution_count": 8,
   "metadata": {},
   "outputs": [],
   "source": [
    "raw_corpus = [\"Human machine interface for lab abc computer applications\",\n",
    "             \"A survey of user opinion of computer system response time\",\n",
    "             \"The EPS user interface management system\",\n",
    "             \"System and human system engineering testing of EPS\",              \n",
    "             \"Relation of user perceived response time to error measurement\",\n",
    "             \"The generation of random binary unordered trees\",\n",
    "             \"The intersection graph of paths in trees\",\n",
    "             \"Graph minors IV Widths of trees and well quasi ordering\",\n",
    "             \"Graph minors A survey\"]"
   ]
  },
  {
   "cell_type": "code",
   "execution_count": 9,
   "metadata": {},
   "outputs": [
    {
     "data": {
      "text/plain": [
       "['Human machine interface for lab abc computer applications',\n",
       " 'A survey of user opinion of computer system response time',\n",
       " 'The EPS user interface management system',\n",
       " 'System and human system engineering testing of EPS',\n",
       " 'Relation of user perceived response time to error measurement',\n",
       " 'The generation of random binary unordered trees',\n",
       " 'The intersection graph of paths in trees',\n",
       " 'Graph minors IV Widths of trees and well quasi ordering',\n",
       " 'Graph minors A survey']"
      ]
     },
     "execution_count": 9,
     "metadata": {},
     "output_type": "execute_result"
    }
   ],
   "source": [
    "raw_corpus"
   ]
  },
  {
   "cell_type": "code",
   "execution_count": 13,
   "metadata": {},
   "outputs": [],
   "source": [
    "stoplist = stopwords.words('english')\n",
    "# Lowercase each document, split it by white space and filter out stopwords\n",
    "texts = [[word for word in document.lower().split() if word not in stoplist]\n",
    "         for document in raw_corpus]"
   ]
  },
  {
   "cell_type": "code",
   "execution_count": 15,
   "metadata": {},
   "outputs": [
    {
     "data": {
      "text/plain": [
       "[['human', 'machine', 'interface', 'lab', 'abc', 'computer', 'applications'],\n",
       " ['survey', 'user', 'opinion', 'computer', 'system', 'response', 'time'],\n",
       " ['eps', 'user', 'interface', 'management', 'system'],\n",
       " ['system', 'human', 'system', 'engineering', 'testing', 'eps'],\n",
       " ['relation', 'user', 'perceived', 'response', 'time', 'error', 'measurement'],\n",
       " ['generation', 'random', 'binary', 'unordered', 'trees'],\n",
       " ['intersection', 'graph', 'paths', 'trees'],\n",
       " ['graph', 'minors', 'iv', 'widths', 'trees', 'well', 'quasi', 'ordering'],\n",
       " ['graph', 'minors', 'survey']]"
      ]
     },
     "execution_count": 15,
     "metadata": {},
     "output_type": "execute_result"
    }
   ],
   "source": [
    "texts"
   ]
  },
  {
   "cell_type": "code",
   "execution_count": 24,
   "metadata": {},
   "outputs": [
    {
     "data": {
      "text/plain": [
       "[['human', 'interface', 'computer'],\n",
       " ['survey', 'user', 'computer', 'system', 'response', 'time'],\n",
       " ['eps', 'user', 'interface', 'system'],\n",
       " ['system', 'human', 'system', 'eps'],\n",
       " ['user', 'response', 'time'],\n",
       " ['trees'],\n",
       " ['graph', 'trees'],\n",
       " ['graph', 'minors', 'trees'],\n",
       " ['graph', 'minors', 'survey']]"
      ]
     },
     "execution_count": 24,
     "metadata": {},
     "output_type": "execute_result"
    }
   ],
   "source": [
    "from collections import defaultdict\n",
    "frequency = defaultdict(int)\n",
    "for text in texts:\n",
    "    for token in text:\n",
    "        frequency[token] += 1\n",
    "\n",
    "# Only keep words that appear more than once\n",
    "processed_corpus = [[token for token in text if frequency[token] > 1] for text in texts]\n",
    "processed_corpus"
   ]
  },
  {
   "cell_type": "code",
   "execution_count": 25,
   "metadata": {},
   "outputs": [
    {
     "name": "stdout",
     "output_type": "stream",
     "text": [
      "Dictionary(12 unique tokens: ['computer', 'human', 'interface', 'response', 'survey']...)\n"
     ]
    }
   ],
   "source": [
    "from gensim import corpora\n",
    "\n",
    "dictionary = corpora.Dictionary(processed_corpus)\n",
    "print(dictionary)"
   ]
  },
  {
   "cell_type": "code",
   "execution_count": 27,
   "metadata": {},
   "outputs": [
    {
     "name": "stdout",
     "output_type": "stream",
     "text": [
      "{'computer': 0, 'human': 1, 'interface': 2, 'response': 3, 'survey': 4, 'system': 5, 'time': 6, 'user': 7, 'eps': 8, 'trees': 9, 'graph': 10, 'minors': 11}\n"
     ]
    }
   ],
   "source": [
    "print(dictionary.token2id)"
   ]
  },
  {
   "cell_type": "code",
   "execution_count": 28,
   "metadata": {},
   "outputs": [
    {
     "data": {
      "text/plain": [
       "[[(0, 1), (1, 1), (2, 1)],\n",
       " [(0, 1), (3, 1), (4, 1), (5, 1), (6, 1), (7, 1)],\n",
       " [(2, 1), (5, 1), (7, 1), (8, 1)],\n",
       " [(1, 1), (5, 2), (8, 1)],\n",
       " [(3, 1), (6, 1), (7, 1)],\n",
       " [(9, 1)],\n",
       " [(9, 1), (10, 1)],\n",
       " [(9, 1), (10, 1), (11, 1)],\n",
       " [(4, 1), (10, 1), (11, 1)]]"
      ]
     },
     "execution_count": 28,
     "metadata": {},
     "output_type": "execute_result"
    }
   ],
   "source": [
    "bow_corpus = [dictionary.doc2bow(text) for text in processed_corpus]\n",
    "bow_corpus"
   ]
  },
  {
   "cell_type": "code",
   "execution_count": 34,
   "metadata": {},
   "outputs": [],
   "source": [
    "model = gensim.models.Word2Vec(processed_corpus, min_count=1)"
   ]
  },
  {
   "cell_type": "code",
   "execution_count": 37,
   "metadata": {},
   "outputs": [
    {
     "name": "stdout",
     "output_type": "stream",
     "text": [
      "Word2Vec(vocab=12, size=100, alpha=0.025)\n",
      "{'human': <gensim.models.keyedvectors.Vocab object at 0x7f6f0314b2e8>, 'interface': <gensim.models.keyedvectors.Vocab object at 0x7f6eff8ba390>, 'computer': <gensim.models.keyedvectors.Vocab object at 0x7f6eff8ba0b8>, 'survey': <gensim.models.keyedvectors.Vocab object at 0x7f6eff8ba0f0>, 'user': <gensim.models.keyedvectors.Vocab object at 0x7f6eff8ba278>, 'system': <gensim.models.keyedvectors.Vocab object at 0x7f6eff8ba048>, 'response': <gensim.models.keyedvectors.Vocab object at 0x7f6eff8ba240>, 'time': <gensim.models.keyedvectors.Vocab object at 0x7f6eff8ba438>, 'eps': <gensim.models.keyedvectors.Vocab object at 0x7f6eff8ba160>, 'trees': <gensim.models.keyedvectors.Vocab object at 0x7f6eff8ba198>, 'graph': <gensim.models.keyedvectors.Vocab object at 0x7f6eff8ba400>, 'minors': <gensim.models.keyedvectors.Vocab object at 0x7f6eff8ba5f8>}\n"
     ]
    }
   ],
   "source": [
    "print(model)\n",
    "print(model.wv.vocab)"
   ]
  },
  {
   "cell_type": "code",
   "execution_count": 66,
   "metadata": {},
   "outputs": [
    {
     "name": "stdout",
     "output_type": "stream",
     "text": [
      "Word2Vec(vocab=12, size=100, alpha=0.025)\n",
      "{'human': <gensim.models.keyedvectors.Vocab object at 0x7f6f0314b2e8>, 'interface': <gensim.models.keyedvectors.Vocab object at 0x7f6eff8ba390>, 'computer': <gensim.models.keyedvectors.Vocab object at 0x7f6eff8ba0b8>, 'survey': <gensim.models.keyedvectors.Vocab object at 0x7f6eff8ba0f0>, 'user': <gensim.models.keyedvectors.Vocab object at 0x7f6eff8ba278>, 'system': <gensim.models.keyedvectors.Vocab object at 0x7f6eff8ba048>, 'response': <gensim.models.keyedvectors.Vocab object at 0x7f6eff8ba240>, 'time': <gensim.models.keyedvectors.Vocab object at 0x7f6eff8ba438>, 'eps': <gensim.models.keyedvectors.Vocab object at 0x7f6eff8ba160>, 'trees': <gensim.models.keyedvectors.Vocab object at 0x7f6eff8ba198>, 'graph': <gensim.models.keyedvectors.Vocab object at 0x7f6eff8ba400>, 'minors': <gensim.models.keyedvectors.Vocab object at 0x7f6eff8ba5f8>}\n"
     ]
    }
   ],
   "source": [
    "# build the same model, making the 2 steps explicit\n",
    "new_model = gensim.models.Word2Vec(min_count=1, size=100, workers=8)  # an empty model, no training\n",
    "# Cython necessary for workers\n",
    "new_model.build_vocab(processed_corpus)                 # can be a non-repeatable, 1-pass generator     \n",
    "new_model.train(processed_corpus, total_examples=new_model.corpus_count, epochs=new_model.epochs)                       \n",
    "# can be a non-repeatable, 1-pass generator\n",
    "print(new_model)\n",
    "print(model.wv.vocab)"
   ]
  },
  {
   "cell_type": "code",
   "execution_count": null,
   "metadata": {},
   "outputs": [],
   "source": [
    "gensi"
   ]
  },
  {
   "cell_type": "code",
   "execution_count": 50,
   "metadata": {},
   "outputs": [
    {
     "data": {
      "text/plain": [
       "[['human', 'interface', 'computer'],\n",
       " ['survey', 'user', 'computer', 'system', 'response', 'time'],\n",
       " ['eps', 'user', 'interface', 'system'],\n",
       " ['system', 'human', 'system', 'eps'],\n",
       " ['user', 'response', 'time'],\n",
       " ['trees'],\n",
       " ['graph', 'trees'],\n",
       " ['graph', 'minors', 'trees'],\n",
       " ['graph', 'minors', 'survey']]"
      ]
     },
     "execution_count": 50,
     "metadata": {},
     "output_type": "execute_result"
    }
   ],
   "source": [
    "processed_corpus"
   ]
  },
  {
   "cell_type": "code",
   "execution_count": 59,
   "metadata": {},
   "outputs": [
    {
     "data": {
      "text/plain": [
       "[('graph', 0.11549252271652222)]"
      ]
     },
     "execution_count": 59,
     "metadata": {},
     "output_type": "execute_result"
    }
   ],
   "source": [
    "model.wv.most_similar(positive=['user', 'interface'], negative=['system'], topn=1)"
   ]
  },
  {
   "cell_type": "code",
   "execution_count": 65,
   "metadata": {},
   "outputs": [
    {
     "data": {
      "text/plain": [
       "'eps'"
      ]
     },
     "execution_count": 65,
     "metadata": {},
     "output_type": "execute_result"
    }
   ],
   "source": [
    "model.wv.doesnt_match(['human', 'computer', 'interface', 'eps'])"
   ]
  },
  {
   "cell_type": "code",
   "execution_count": 63,
   "metadata": {},
   "outputs": [
    {
     "data": {
      "text/plain": [
       "0.18686399"
      ]
     },
     "execution_count": 63,
     "metadata": {},
     "output_type": "execute_result"
    }
   ],
   "source": [
    "model.wv.similarity('human', 'computer')"
   ]
  },
  {
   "cell_type": "code",
   "execution_count": 64,
   "metadata": {},
   "outputs": [
    {
     "data": {
      "text/plain": [
       "array([[-4.0587825e-03,  1.1249031e-03, -2.9031246e-03, -1.8892077e-03,\n",
       "         4.3165316e-03,  1.1051432e-03, -3.1905172e-03,  4.4847623e-04,\n",
       "        -4.8446646e-03, -4.3259334e-04,  4.9787569e-03,  3.4899055e-03,\n",
       "        -3.4545094e-03,  9.2180556e-04,  3.9607901e-04, -1.1231720e-03,\n",
       "        -2.0145506e-03,  4.1078241e-03,  4.2786216e-03,  4.5254658e-04,\n",
       "        -8.2720554e-04, -1.5779483e-03, -3.6928593e-03, -4.7285808e-03,\n",
       "         2.4421031e-03,  2.7082621e-03,  1.3680877e-03, -3.8699103e-03,\n",
       "        -3.8043386e-04, -5.3821155e-04,  2.4720361e-03,  4.7600213e-03,\n",
       "        -4.8120287e-03, -1.1803948e-03, -3.8195967e-03, -2.8486869e-03,\n",
       "        -2.0567380e-04,  3.2563363e-03,  4.3201186e-03,  1.0261493e-03,\n",
       "         7.2132825e-04,  4.1255248e-03, -2.4629647e-03, -3.8154440e-03,\n",
       "        -3.9499160e-03, -2.6114751e-03, -3.2222935e-03,  1.5364909e-03,\n",
       "        -5.4176070e-04,  3.5467469e-03, -3.0257443e-03,  4.2660404e-03,\n",
       "        -2.7679051e-03, -4.0529710e-03, -2.7858064e-04,  1.7731563e-03,\n",
       "        -5.8626628e-04, -4.8173741e-03, -1.9336943e-04,  2.7811455e-03,\n",
       "        -2.7669927e-03,  2.3241101e-03,  2.9521165e-03, -2.6773422e-03,\n",
       "        -1.9346735e-03, -2.2668578e-03, -2.8801593e-03,  2.2517391e-03,\n",
       "         3.9929734e-03,  2.9053309e-03,  9.6310501e-04, -2.0141411e-03,\n",
       "         6.7326015e-05,  4.9113147e-03,  3.0499895e-03, -4.1135051e-03,\n",
       "         3.5826538e-03,  3.8736234e-03, -2.8451961e-03, -1.9815404e-03,\n",
       "         1.9593115e-03,  1.6189223e-03,  1.8353686e-03, -4.2382414e-03,\n",
       "         4.3488592e-03, -4.8144809e-03, -3.6811368e-03, -3.8783962e-03,\n",
       "         1.6998111e-03,  4.5905923e-03,  3.9415299e-03,  3.2509267e-03,\n",
       "         3.9717378e-03,  2.5931762e-03, -5.1735620e-05, -2.0307389e-03,\n",
       "         4.0291012e-03,  3.8919072e-03, -2.0144633e-03,  4.5840559e-03]],\n",
       "      dtype=float32)"
      ]
     },
     "execution_count": 64,
     "metadata": {},
     "output_type": "execute_result"
    }
   ],
   "source": [
    "model.wv.__getitem__(['human'])"
   ]
  },
  {
   "cell_type": "code",
   "execution_count": 68,
   "metadata": {},
   "outputs": [],
   "source": [
    "import gensim.downloader as api"
   ]
  },
  {
   "cell_type": "code",
   "execution_count": 70,
   "metadata": {},
   "outputs": [
    {
     "name": "stdout",
     "output_type": "stream",
     "text": [
      "[==================================================] 100.0% 104.8/104.8MB downloaded\n"
     ]
    }
   ],
   "source": [
    "model = api.load('glove-twitter-25')"
   ]
  },
  {
   "cell_type": "code",
   "execution_count": 82,
   "metadata": {},
   "outputs": [
    {
     "name": "stderr",
     "output_type": "stream",
     "text": [
      "/home/bipinkc/.local/lib/python3.6/site-packages/ipykernel_launcher.py:1: DeprecationWarning: Call to deprecated `wv` (Attribute will be removed in 4.0.0, use self instead).\n",
      "  \"\"\"Entry point for launching an IPython kernel.\n"
     ]
    },
    {
     "data": {
      "text/plain": [
       "[('coffee', 0.7858877778053284),\n",
       " ('wine', 0.755984902381897),\n",
       " ('food', 0.7507694363594055),\n",
       " ('drinks', 0.7365005612373352),\n",
       " ('ice', 0.7315662503242493)]"
      ]
     },
     "execution_count": 82,
     "metadata": {},
     "output_type": "execute_result"
    }
   ],
   "source": [
    "model.wv.most_similar(positive=['australia', 'beer'], negative=['france'], topn=5)"
   ]
  },
  {
   "cell_type": "code",
   "execution_count": 84,
   "metadata": {},
   "outputs": [
    {
     "name": "stderr",
     "output_type": "stream",
     "text": [
      "/home/bipinkc/.local/lib/python3.6/site-packages/ipykernel_launcher.py:1: DeprecationWarning: Call to deprecated `wv` (Attribute will be removed in 4.0.0, use self instead).\n",
      "  \"\"\"Entry point for launching an IPython kernel.\n"
     ]
    },
    {
     "data": {
      "text/plain": [
       "[('australia', 0.8525853157043457),\n",
       " ('vietnam', 0.8469770550727844),\n",
       " ('india', 0.8334696888923645),\n",
       " ('thailand', 0.8263822197914124),\n",
       " ('china', 0.8161506652832031)]"
      ]
     },
     "execution_count": 84,
     "metadata": {},
     "output_type": "execute_result"
    }
   ],
   "source": [
    "model.wv.most_similar(positive=['asia', 'russia'], negative=['europe'], topn=5)"
   ]
  },
  {
   "cell_type": "code",
   "execution_count": 79,
   "metadata": {},
   "outputs": [
    {
     "name": "stderr",
     "output_type": "stream",
     "text": [
      "/home/bipinkc/.local/lib/python3.6/site-packages/ipykernel_launcher.py:1: DeprecationWarning: Call to deprecated `wv` (Attribute will be removed in 4.0.0, use self instead).\n",
      "  \"\"\"Entry point for launching an IPython kernel.\n"
     ]
    },
    {
     "data": {
      "text/plain": [
       "'whisky'"
      ]
     },
     "execution_count": 79,
     "metadata": {},
     "output_type": "execute_result"
    }
   ],
   "source": [
    "model.wv.doesnt_match(['beer', 'wine', 'coffee', 'whisky'])"
   ]
  },
  {
   "cell_type": "code",
   "execution_count": 80,
   "metadata": {},
   "outputs": [
    {
     "name": "stderr",
     "output_type": "stream",
     "text": [
      "/home/bipinkc/.local/lib/python3.6/site-packages/ipykernel_launcher.py:1: DeprecationWarning: Call to deprecated `wv` (Attribute will be removed in 4.0.0, use self instead).\n",
      "  \"\"\"Entry point for launching an IPython kernel.\n"
     ]
    },
    {
     "data": {
      "text/plain": [
       "0.7246317"
      ]
     },
     "execution_count": 80,
     "metadata": {},
     "output_type": "execute_result"
    }
   ],
   "source": [
    "model.wv.similarity('asia', 'nepal')"
   ]
  },
  {
   "cell_type": "code",
   "execution_count": 81,
   "metadata": {},
   "outputs": [
    {
     "name": "stderr",
     "output_type": "stream",
     "text": [
      "/home/bipinkc/.local/lib/python3.6/site-packages/ipykernel_launcher.py:1: DeprecationWarning: Call to deprecated `wv` (Attribute will be removed in 4.0.0, use self instead).\n",
      "  \"\"\"Entry point for launching an IPython kernel.\n"
     ]
    },
    {
     "data": {
      "text/plain": [
       "array([[-0.43584  , -0.33878  , -0.34588  , -0.98574  , -1.3136   ,\n",
       "        -0.53908  , -0.11976  , -0.48904  ,  1.1536   ,  0.51499  ,\n",
       "        -0.14065  , -0.33521  , -1.1437   ,  0.65969  ,  0.62388  ,\n",
       "        -0.06944  ,  0.10791  , -0.0072232,  0.49554  ,  0.47091  ,\n",
       "        -0.37258  , -0.30288  , -0.50675  , -1.3789   , -0.34021  ]],\n",
       "      dtype=float32)"
      ]
     },
     "execution_count": 81,
     "metadata": {},
     "output_type": "execute_result"
    }
   ],
   "source": [
    "model.wv.__getitem__(['nepal'])"
   ]
  },
  {
   "cell_type": "code",
   "execution_count": null,
   "metadata": {},
   "outputs": [],
   "source": []
  }
 ],
 "metadata": {
  "kernelspec": {
   "display_name": "Python 3",
   "language": "python",
   "name": "python3"
  },
  "language_info": {
   "codemirror_mode": {
    "name": "ipython",
    "version": 3
   },
   "file_extension": ".py",
   "mimetype": "text/x-python",
   "name": "python",
   "nbconvert_exporter": "python",
   "pygments_lexer": "ipython3",
   "version": "3.6.7"
  }
 },
 "nbformat": 4,
 "nbformat_minor": 2
}
